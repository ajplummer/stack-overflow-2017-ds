{
 "cells": [
  {
   "cell_type": "markdown",
   "metadata": {},
   "source": [
    "# Project 4: Using Data Science to Gain Insights from Stack Overflow Survey Data\n",
    "\n",
    "For this project I am using the Stack Overflow Data - 2017 Survey available [here](https://www.kaggle.com/stackoverflow/so-survey-2017).\n",
    "\n",
    "## Step 1: Business Understanding\n",
    "\n",
    "As stated on that site:\n",
    "> Every year, Stack Overflow conducts a massive survey of people on the site, covering all sorts of information like programming languages, salary, code style and various other information. This year, they amassed more than 64,000 responses fielded from 213 countries.\n",
    "\n",
    "This is information provided by individuals about themselves and their opinions. The individuals are either developers or have some connection to developers / development.\n",
    "\n",
    "I will be looking to answer three main questions through the use of Data Science principles:\n",
    "1. What level of education do parents of self-taught professional developers have?\n",
    "2. How well can we predict an individual's highest level of formal education? What aspects correlate well to this?\n",
    "3. How well can we predict whether an individual sees the world in \"black and white\" or not? What aspects correlate well to this?"
   ]
  },
  {
   "cell_type": "markdown",
   "metadata": {},
   "source": [
    "## Interlude: Key Includes\n",
    "\n",
    "Prior to moving on to understanding our data we need to prepare our development environment with the different libraries we will need for working with the data."
   ]
  },
  {
   "cell_type": "code",
   "execution_count": 1,
   "metadata": {},
   "outputs": [],
   "source": [
    "import numpy as np\n",
    "import pandas as pd\n",
    "import matplotlib.pyplot as plt\n",
    "import seaborn as sns\n",
    "\n",
    "from sklearn.preprocessing import StandardScaler\n",
    "from sklearn.linear_model import LinearRegression\n",
    "from sklearn.linear_model import LogisticRegression\n",
    "from sklearn.model_selection import train_test_split\n",
    "from sklearn.metrics import accuracy_score, r2_score, mean_squared_error\n",
    "\n",
    "%matplotlib inline"
   ]
  },
  {
   "cell_type": "markdown",
   "metadata": {},
   "source": [
    "## Step 2: Data Understanding\n",
    "\n",
    "In this step we will load in the data and schema and take a look at the two of them to better understand what details we have available in the data and how we might use it to answer our three main questions."
   ]
  },
  {
   "cell_type": "markdown",
   "metadata": {},
   "source": [
    "### Load in the Data and Schema"
   ]
  },
  {
   "cell_type": "code",
   "execution_count": 2,
   "metadata": {},
   "outputs": [],
   "source": [
    "survey_results = pd.read_csv('./data/survey_results_public.csv')\n",
    "survey_schema = pd.read_csv('./data/survey_results_schema.csv')"
   ]
  },
  {
   "cell_type": "markdown",
   "metadata": {},
   "source": [
    "### Understand the Structure of the Data"
   ]
  },
  {
   "cell_type": "code",
   "execution_count": 3,
   "metadata": {},
   "outputs": [
    {
     "data": {
      "text/plain": [
       "(51392, 154)"
      ]
     },
     "execution_count": 3,
     "metadata": {},
     "output_type": "execute_result"
    }
   ],
   "source": [
    "survey_results.shape"
   ]
  },
  {
   "cell_type": "code",
   "execution_count": 4,
   "metadata": {},
   "outputs": [
    {
     "data": {
      "text/html": [
       "<div>\n",
       "<style scoped>\n",
       "    .dataframe tbody tr th:only-of-type {\n",
       "        vertical-align: middle;\n",
       "    }\n",
       "\n",
       "    .dataframe tbody tr th {\n",
       "        vertical-align: top;\n",
       "    }\n",
       "\n",
       "    .dataframe thead th {\n",
       "        text-align: right;\n",
       "    }\n",
       "</style>\n",
       "<table border=\"1\" class=\"dataframe\">\n",
       "  <thead>\n",
       "    <tr style=\"text-align: right;\">\n",
       "      <th></th>\n",
       "      <th>Respondent</th>\n",
       "      <th>Professional</th>\n",
       "      <th>ProgramHobby</th>\n",
       "      <th>Country</th>\n",
       "      <th>University</th>\n",
       "      <th>EmploymentStatus</th>\n",
       "      <th>FormalEducation</th>\n",
       "      <th>MajorUndergrad</th>\n",
       "      <th>HomeRemote</th>\n",
       "      <th>CompanySize</th>\n",
       "      <th>...</th>\n",
       "      <th>StackOverflowMakeMoney</th>\n",
       "      <th>Gender</th>\n",
       "      <th>HighestEducationParents</th>\n",
       "      <th>Race</th>\n",
       "      <th>SurveyLong</th>\n",
       "      <th>QuestionsInteresting</th>\n",
       "      <th>QuestionsConfusing</th>\n",
       "      <th>InterestedAnswers</th>\n",
       "      <th>Salary</th>\n",
       "      <th>ExpectedSalary</th>\n",
       "    </tr>\n",
       "  </thead>\n",
       "  <tbody>\n",
       "    <tr>\n",
       "      <th>0</th>\n",
       "      <td>1</td>\n",
       "      <td>Student</td>\n",
       "      <td>Yes, both</td>\n",
       "      <td>United States</td>\n",
       "      <td>No</td>\n",
       "      <td>Not employed, and not looking for work</td>\n",
       "      <td>Secondary school</td>\n",
       "      <td>NaN</td>\n",
       "      <td>NaN</td>\n",
       "      <td>NaN</td>\n",
       "      <td>...</td>\n",
       "      <td>Strongly disagree</td>\n",
       "      <td>Male</td>\n",
       "      <td>High school</td>\n",
       "      <td>White or of European descent</td>\n",
       "      <td>Strongly disagree</td>\n",
       "      <td>Strongly agree</td>\n",
       "      <td>Disagree</td>\n",
       "      <td>Strongly agree</td>\n",
       "      <td>NaN</td>\n",
       "      <td>NaN</td>\n",
       "    </tr>\n",
       "    <tr>\n",
       "      <th>1</th>\n",
       "      <td>2</td>\n",
       "      <td>Student</td>\n",
       "      <td>Yes, both</td>\n",
       "      <td>United Kingdom</td>\n",
       "      <td>Yes, full-time</td>\n",
       "      <td>Employed part-time</td>\n",
       "      <td>Some college/university study without earning ...</td>\n",
       "      <td>Computer science or software engineering</td>\n",
       "      <td>More than half, but not all, the time</td>\n",
       "      <td>20 to 99 employees</td>\n",
       "      <td>...</td>\n",
       "      <td>Strongly disagree</td>\n",
       "      <td>Male</td>\n",
       "      <td>A master's degree</td>\n",
       "      <td>White or of European descent</td>\n",
       "      <td>Somewhat agree</td>\n",
       "      <td>Somewhat agree</td>\n",
       "      <td>Disagree</td>\n",
       "      <td>Strongly agree</td>\n",
       "      <td>NaN</td>\n",
       "      <td>37500.0</td>\n",
       "    </tr>\n",
       "    <tr>\n",
       "      <th>2</th>\n",
       "      <td>3</td>\n",
       "      <td>Professional developer</td>\n",
       "      <td>Yes, both</td>\n",
       "      <td>United Kingdom</td>\n",
       "      <td>No</td>\n",
       "      <td>Employed full-time</td>\n",
       "      <td>Bachelor's degree</td>\n",
       "      <td>Computer science or software engineering</td>\n",
       "      <td>Less than half the time, but at least one day ...</td>\n",
       "      <td>10,000 or more employees</td>\n",
       "      <td>...</td>\n",
       "      <td>Disagree</td>\n",
       "      <td>Male</td>\n",
       "      <td>A professional degree</td>\n",
       "      <td>White or of European descent</td>\n",
       "      <td>Somewhat agree</td>\n",
       "      <td>Agree</td>\n",
       "      <td>Disagree</td>\n",
       "      <td>Agree</td>\n",
       "      <td>113750.0</td>\n",
       "      <td>NaN</td>\n",
       "    </tr>\n",
       "    <tr>\n",
       "      <th>3</th>\n",
       "      <td>4</td>\n",
       "      <td>Professional non-developer who sometimes write...</td>\n",
       "      <td>Yes, both</td>\n",
       "      <td>United States</td>\n",
       "      <td>No</td>\n",
       "      <td>Employed full-time</td>\n",
       "      <td>Doctoral degree</td>\n",
       "      <td>A non-computer-focused engineering discipline</td>\n",
       "      <td>Less than half the time, but at least one day ...</td>\n",
       "      <td>10,000 or more employees</td>\n",
       "      <td>...</td>\n",
       "      <td>Disagree</td>\n",
       "      <td>Male</td>\n",
       "      <td>A doctoral degree</td>\n",
       "      <td>White or of European descent</td>\n",
       "      <td>Agree</td>\n",
       "      <td>Agree</td>\n",
       "      <td>Somewhat agree</td>\n",
       "      <td>Strongly agree</td>\n",
       "      <td>NaN</td>\n",
       "      <td>NaN</td>\n",
       "    </tr>\n",
       "    <tr>\n",
       "      <th>4</th>\n",
       "      <td>5</td>\n",
       "      <td>Professional developer</td>\n",
       "      <td>Yes, I program as a hobby</td>\n",
       "      <td>Switzerland</td>\n",
       "      <td>No</td>\n",
       "      <td>Employed full-time</td>\n",
       "      <td>Master's degree</td>\n",
       "      <td>Computer science or software engineering</td>\n",
       "      <td>Never</td>\n",
       "      <td>10 to 19 employees</td>\n",
       "      <td>...</td>\n",
       "      <td>NaN</td>\n",
       "      <td>NaN</td>\n",
       "      <td>NaN</td>\n",
       "      <td>NaN</td>\n",
       "      <td>NaN</td>\n",
       "      <td>NaN</td>\n",
       "      <td>NaN</td>\n",
       "      <td>NaN</td>\n",
       "      <td>NaN</td>\n",
       "      <td>NaN</td>\n",
       "    </tr>\n",
       "  </tbody>\n",
       "</table>\n",
       "<p>5 rows × 154 columns</p>\n",
       "</div>"
      ],
      "text/plain": [
       "   Respondent                                       Professional  \\\n",
       "0           1                                            Student   \n",
       "1           2                                            Student   \n",
       "2           3                             Professional developer   \n",
       "3           4  Professional non-developer who sometimes write...   \n",
       "4           5                             Professional developer   \n",
       "\n",
       "                ProgramHobby         Country      University  \\\n",
       "0                  Yes, both   United States              No   \n",
       "1                  Yes, both  United Kingdom  Yes, full-time   \n",
       "2                  Yes, both  United Kingdom              No   \n",
       "3                  Yes, both   United States              No   \n",
       "4  Yes, I program as a hobby     Switzerland              No   \n",
       "\n",
       "                         EmploymentStatus  \\\n",
       "0  Not employed, and not looking for work   \n",
       "1                      Employed part-time   \n",
       "2                      Employed full-time   \n",
       "3                      Employed full-time   \n",
       "4                      Employed full-time   \n",
       "\n",
       "                                     FormalEducation  \\\n",
       "0                                   Secondary school   \n",
       "1  Some college/university study without earning ...   \n",
       "2                                  Bachelor's degree   \n",
       "3                                    Doctoral degree   \n",
       "4                                    Master's degree   \n",
       "\n",
       "                                  MajorUndergrad  \\\n",
       "0                                            NaN   \n",
       "1       Computer science or software engineering   \n",
       "2       Computer science or software engineering   \n",
       "3  A non-computer-focused engineering discipline   \n",
       "4       Computer science or software engineering   \n",
       "\n",
       "                                          HomeRemote  \\\n",
       "0                                                NaN   \n",
       "1              More than half, but not all, the time   \n",
       "2  Less than half the time, but at least one day ...   \n",
       "3  Less than half the time, but at least one day ...   \n",
       "4                                              Never   \n",
       "\n",
       "                CompanySize  ... StackOverflowMakeMoney Gender  \\\n",
       "0                       NaN  ...      Strongly disagree   Male   \n",
       "1        20 to 99 employees  ...      Strongly disagree   Male   \n",
       "2  10,000 or more employees  ...               Disagree   Male   \n",
       "3  10,000 or more employees  ...               Disagree   Male   \n",
       "4        10 to 19 employees  ...                    NaN    NaN   \n",
       "\n",
       "  HighestEducationParents                          Race         SurveyLong  \\\n",
       "0             High school  White or of European descent  Strongly disagree   \n",
       "1       A master's degree  White or of European descent     Somewhat agree   \n",
       "2   A professional degree  White or of European descent     Somewhat agree   \n",
       "3       A doctoral degree  White or of European descent              Agree   \n",
       "4                     NaN                           NaN                NaN   \n",
       "\n",
       "  QuestionsInteresting QuestionsConfusing InterestedAnswers    Salary  \\\n",
       "0       Strongly agree           Disagree    Strongly agree       NaN   \n",
       "1       Somewhat agree           Disagree    Strongly agree       NaN   \n",
       "2                Agree           Disagree             Agree  113750.0   \n",
       "3                Agree     Somewhat agree    Strongly agree       NaN   \n",
       "4                  NaN                NaN               NaN       NaN   \n",
       "\n",
       "   ExpectedSalary  \n",
       "0             NaN  \n",
       "1         37500.0  \n",
       "2             NaN  \n",
       "3             NaN  \n",
       "4             NaN  \n",
       "\n",
       "[5 rows x 154 columns]"
      ]
     },
     "execution_count": 4,
     "metadata": {},
     "output_type": "execute_result"
    }
   ],
   "source": [
    "survey_results.head()"
   ]
  },
  {
   "cell_type": "code",
   "execution_count": 5,
   "metadata": {},
   "outputs": [
    {
     "data": {
      "text/plain": [
       "(154, 2)"
      ]
     },
     "execution_count": 5,
     "metadata": {},
     "output_type": "execute_result"
    }
   ],
   "source": [
    "survey_schema.shape"
   ]
  },
  {
   "cell_type": "code",
   "execution_count": 6,
   "metadata": {},
   "outputs": [
    {
     "data": {
      "text/html": [
       "<div>\n",
       "<style scoped>\n",
       "    .dataframe tbody tr th:only-of-type {\n",
       "        vertical-align: middle;\n",
       "    }\n",
       "\n",
       "    .dataframe tbody tr th {\n",
       "        vertical-align: top;\n",
       "    }\n",
       "\n",
       "    .dataframe thead th {\n",
       "        text-align: right;\n",
       "    }\n",
       "</style>\n",
       "<table border=\"1\" class=\"dataframe\">\n",
       "  <thead>\n",
       "    <tr style=\"text-align: right;\">\n",
       "      <th></th>\n",
       "      <th>Column</th>\n",
       "      <th>Question</th>\n",
       "    </tr>\n",
       "  </thead>\n",
       "  <tbody>\n",
       "    <tr>\n",
       "      <th>0</th>\n",
       "      <td>Respondent</td>\n",
       "      <td>Respondent ID number</td>\n",
       "    </tr>\n",
       "    <tr>\n",
       "      <th>1</th>\n",
       "      <td>Professional</td>\n",
       "      <td>Which of the following best describes you?</td>\n",
       "    </tr>\n",
       "    <tr>\n",
       "      <th>2</th>\n",
       "      <td>ProgramHobby</td>\n",
       "      <td>Do you program as a hobby or contribute to ope...</td>\n",
       "    </tr>\n",
       "    <tr>\n",
       "      <th>3</th>\n",
       "      <td>Country</td>\n",
       "      <td>In which country do you currently live?</td>\n",
       "    </tr>\n",
       "    <tr>\n",
       "      <th>4</th>\n",
       "      <td>University</td>\n",
       "      <td>Are you currently enrolled in a formal, degree...</td>\n",
       "    </tr>\n",
       "  </tbody>\n",
       "</table>\n",
       "</div>"
      ],
      "text/plain": [
       "         Column                                           Question\n",
       "0    Respondent                               Respondent ID number\n",
       "1  Professional         Which of the following best describes you?\n",
       "2  ProgramHobby  Do you program as a hobby or contribute to ope...\n",
       "3       Country            In which country do you currently live?\n",
       "4    University  Are you currently enrolled in a formal, degree..."
      ]
     },
     "execution_count": 6,
     "metadata": {},
     "output_type": "execute_result"
    }
   ],
   "source": [
    "survey_schema.head()"
   ]
  },
  {
   "cell_type": "markdown",
   "metadata": {},
   "source": [
    "From looking at the data and schema it is clear that there is a lot of nominal categorical features (e.g. \"In which country do you currently live?\") as well as some ordinal features. I will need to do some preparation of the data before I can model it."
   ]
  },
  {
   "cell_type": "markdown",
   "metadata": {},
   "source": [
    "## Interlude: Question 1\n",
    "\n",
    "It appears that I should be able to answer my first question without needing to do any modeling.\n",
    "\n",
    "As a reminder, my first question is:\n",
    "1. What level of education do parents of self-taught professional developers have?\n",
    "\n",
    "The key features that I will need to look at for this question are Professional, EducationTypes and HighestEducationParents."
   ]
  },
  {
   "cell_type": "code",
   "execution_count": 7,
   "metadata": {},
   "outputs": [
    {
     "data": {
      "text/plain": [
       "Professional developer                                  36131\n",
       "Student                                                  8224\n",
       "Professional non-developer who sometimes writes code     5140\n",
       "Used to be a professional developer                       983\n",
       "None of these                                             914\n",
       "Name: Professional, dtype: int64"
      ]
     },
     "execution_count": 7,
     "metadata": {},
     "output_type": "execute_result"
    }
   ],
   "source": [
    "# Let's look at the values in the Professional feature.\n",
    "\n",
    "survey_results.Professional.value_counts()"
   ]
  },
  {
   "cell_type": "markdown",
   "metadata": {},
   "source": [
    "In this situation, I want to include those individuals who chose \"Professional developer\" or \"Used to be a professional developer\" since I myself fall into the second bucket."
   ]
  },
  {
   "cell_type": "code",
   "execution_count": 8,
   "metadata": {},
   "outputs": [
    {
     "data": {
      "text/plain": [
       "Self-taught                                                                                                        3691\n",
       "Online course; Self-taught                                                                                         1875\n",
       "Self-taught; Open source contributions                                                                             1751\n",
       "On-the-job training; Self-taught                                                                                   1687\n",
       "Online course; On-the-job training; Self-taught                                                                    1276\n",
       "                                                                                                                   ... \n",
       "Online course; Bootcamp; On-the-job training; Coding competition; Hackathon                                           1\n",
       "Online course; Bootcamp; Industry certification; Coding competition; Hackathon; Open source contributions             1\n",
       "Online course; Part-time/evening course; Industry certification; On-the-job training; Open source contributions       1\n",
       "Online course; Industry certification; On-the-job training; Hackathon; Open source contributions                      1\n",
       "Bootcamp; Industry certification; On-the-job training; Coding competition                                             1\n",
       "Name: EducationTypes, Length: 447, dtype: int64"
      ]
     },
     "execution_count": 8,
     "metadata": {},
     "output_type": "execute_result"
    }
   ],
   "source": [
    "# Let's look at the values in the EducationTypes feature.\n",
    "\n",
    "survey_results.EducationTypes.value_counts()"
   ]
  },
  {
   "cell_type": "markdown",
   "metadata": {},
   "source": [
    "Ruh roh! It looks like this is a question that allows for multiple answers! We will need to do something about this.\n",
    "\n",
    "We have a few different options:\n",
    "1. Only count those people who ONLY selected \"Self-taught\".\n",
    "2. Break the feature up into multiple features in the dataset: one for each value chosen.\n",
    "3. Use a dynamic query to only choose those rows that include the text \"Self-taught\" without actually creating new features.\n",
    "\n",
    "I am going to choose Option 1. This may seem like the \"easy route\" (and it is, of course) but it also has value: this way we are truly looking at only those who were self-taught and did not learn through a different method (e.g. an Online course). This is what I am truly trying to understand."
   ]
  },
  {
   "cell_type": "code",
   "execution_count": 9,
   "metadata": {},
   "outputs": [
    {
     "data": {
      "text/plain": [
       "(2480, 154)"
      ]
     },
     "execution_count": 9,
     "metadata": {},
     "output_type": "execute_result"
    }
   ],
   "source": [
    "# Create a new dataframe only including those rows where Professional == \"Professional \n",
    "# developer\" or \"Used to be a professional developer\" and EducationTypes == \"Self-taught\"\n",
    "\n",
    "self_taught = survey_results[((survey_results.Professional == \"Professional developer\") |\n",
    "                              (survey_results.Professional == \"Used to be a professional developer\")) &\n",
    "                             (survey_results.EducationTypes == 'Self-taught')]\n",
    "self_taught.shape"
   ]
  },
  {
   "cell_type": "code",
   "execution_count": 10,
   "metadata": {},
   "outputs": [
    {
     "data": {
      "text/plain": [
       "A bachelor's degree                                    537\n",
       "A master's degree                                      417\n",
       "High school                                            404\n",
       "Some college/university study, no bachelor's degree    272\n",
       "Primary/elementary school                              108\n",
       "A doctoral degree                                       90\n",
       "A professional degree                                   89\n",
       "I don't know/not sure                                   51\n",
       "I prefer not to answer                                  37\n",
       "No education                                            14\n",
       "Name: HighestEducationParents, dtype: int64"
      ]
     },
     "execution_count": 10,
     "metadata": {},
     "output_type": "execute_result"
    }
   ],
   "source": [
    "# Now that we have a dataframe focused only on Self-taught professional developers, let's\n",
    "# take a look at the values in the HighestEducationParents feature for those records.\n",
    "\n",
    "par_ed_vals = self_taught.HighestEducationParents.value_counts()\n",
    "\n",
    "par_ed_vals"
   ]
  },
  {
   "cell_type": "code",
   "execution_count": 11,
   "metadata": {},
   "outputs": [
    {
     "data": {
      "image/png": "[encoded data removed]",
      "text/plain": [
       "<Figure size 432x288 with 1 Axes>"
      ]
     },
     "metadata": {
      "needs_background": "light"
     },
     "output_type": "display_data"
    }
   ],
   "source": [
    "# Let's plot these in a bar chart to see it more visually.\n",
    "\n",
    "(par_ed_vals/self_taught.shape[0]).plot(kind=\"bar\");\n",
    "plt.title(\"Parents' Highest Formal Education\");"
   ]
  },
  {
   "cell_type": "markdown",
   "metadata": {},
   "source": [
    "This shows that about half of the Self-taught developers have parents who had at least some college / university study.\n",
    "\n",
    "What would be really interesting is to see how that compares to the survey participants overall..."
   ]
  },
  {
   "cell_type": "code",
   "execution_count": 12,
   "metadata": {},
   "outputs": [
    {
     "data": {
      "text/plain": [
       "A bachelor's degree                                    10175\n",
       "A master's degree                                       7561\n",
       "High school                                             5887\n",
       "Some college/university study, no bachelor's degree     4783\n",
       "A doctoral degree                                       2060\n",
       "A professional degree                                   1546\n",
       "Primary/elementary school                               1378\n",
       "I don't know/not sure                                    726\n",
       "I prefer not to answer                                   612\n",
       "No education                                             210\n",
       "Name: HighestEducationParents, dtype: int64"
      ]
     },
     "execution_count": 12,
     "metadata": {},
     "output_type": "execute_result"
    }
   ],
   "source": [
    "# Let's take a look at the values in the HighestEducationParents feature for all records.\n",
    "\n",
    "par_ed_vals_tot = survey_results.HighestEducationParents.value_counts()\n",
    "\n",
    "par_ed_vals_tot"
   ]
  },
  {
   "cell_type": "code",
   "execution_count": 13,
   "metadata": {},
   "outputs": [
    {
     "data": {
      "image/png": "[encoded data removed]",
      "text/plain": [
       "<Figure size 432x288 with 1 Axes>"
      ]
     },
     "metadata": {
      "needs_background": "light"
     },
     "output_type": "display_data"
    }
   ],
   "source": [
    "# Let's plot these in a bar chart to see it more visually.\n",
    "\n",
    "(par_ed_vals_tot/survey_results.shape[0]).plot(kind=\"bar\");\n",
    "plt.title(\"Parents' Highest Formal Education\");"
   ]
  },
  {
   "cell_type": "markdown",
   "metadata": {},
   "source": [
    "The shape of the data between the self-taught developers and the survey participants overall is very similar with most buckets (e.g. \"A bachelor's degree\") coming in at almost the same place in terms of percentage of the total.\n",
    "\n",
    "There are two aspects that I would like to call out...\n",
    "- The % of those whose parents have a bachelor's degree or master's degree (higher education) increased.\n",
    "- The % of those whose parents have primary / elementary school education (basic formal education) increased.\n",
    "\n",
    "What can we glean from this information? I will discuss it in my blog post ;)"
   ]
  },
  {
   "cell_type": "markdown",
   "metadata": {},
   "source": [
    "## Step 3: Data Preparation\n",
    "\n",
    "In order to answer the other two questions I will need to some modeling so I must next go about preparing the data."
   ]
  },
  {
   "cell_type": "markdown",
   "metadata": {},
   "source": [
    "### Reviewing Null (NaN) Values\n",
    "\n",
    "Before modeling it is important for me to understand the NaN values in the dataset."
   ]
  },
  {
   "cell_type": "code",
   "execution_count": 14,
   "metadata": {},
   "outputs": [
    {
     "name": "stdout",
     "output_type": "stream",
     "text": [
      "Respondent 0\n",
      "Professional 0\n",
      "ProgramHobby 0\n",
      "Country 0\n",
      "University 0\n",
      "EmploymentStatus 0\n",
      "FormalEducation 0\n",
      "MajorUndergrad 8551\n",
      "HomeRemote 7384\n",
      "CompanySize 12470\n",
      "CompanyType 12569\n",
      "YearsProgram 247\n",
      "YearsCodedJob 10502\n",
      "YearsCodedJobPast 50418\n",
      "DeveloperType 15267\n",
      "WebDeveloperType 40696\n",
      "MobileDeveloperType 49839\n",
      "NonDeveloperType 46502\n",
      "CareerSatisfaction 8697\n",
      "JobSatisfaction 11016\n",
      "ExCoderReturn 50469\n",
      "ExCoderNotForMe 50471\n",
      "ExCoderBalance 50469\n",
      "ExCoder10Years 50475\n",
      "ExCoderBelonged 50464\n",
      "ExCoderSkills 50457\n",
      "ExCoderWillNotCode 50470\n",
      "ExCoderActive 50462\n",
      "PronounceGIF 384\n",
      "ProblemSolving 20099\n",
      "BuildingThings 20158\n",
      "LearningNewTech 20088\n",
      "BoringDetails 20208\n",
      "JobSecurity 20152\n",
      "DiversityImportant 20489\n",
      "AnnoyingUI 20371\n",
      "FriendsDevelopers 20335\n",
      "RightWrongWay 20408\n",
      "UnderstandComputers 20345\n",
      "SeriousWork 20378\n",
      "InvestTimeTools 20506\n",
      "WorkPayCare 20427\n",
      "KinshipDevelopers 20690\n",
      "ChallengeMyself 20421\n",
      "CompetePeers 20582\n",
      "ChangeWorld 20457\n",
      "JobSeekingStatus 18012\n",
      "HoursPerWeek 30792\n",
      "LastNewJob 18682\n",
      "AssessJobIndustry 29262\n",
      "AssessJobRole 29245\n",
      "AssessJobExp 29256\n",
      "AssessJobDept 29269\n",
      "AssessJobTech 29203\n",
      "AssessJobProjects 29209\n",
      "AssessJobCompensation 29246\n",
      "AssessJobOffice 29388\n",
      "AssessJobCommute 29419\n",
      "AssessJobRemote 29372\n",
      "AssessJobLeaders 29406\n",
      "AssessJobProfDevel 29394\n",
      "AssessJobDiversity 29414\n",
      "AssessJobProduct 29395\n",
      "AssessJobFinances 29369\n",
      "ImportantBenefits 21157\n",
      "ClickyKeys 9346\n",
      "JobProfile 26673\n",
      "ResumePrompted 28931\n",
      "LearnedHiring 27655\n",
      "ImportantHiringAlgorithms 22750\n",
      "ImportantHiringTechExp 22698\n",
      "ImportantHiringCommunication 22753\n",
      "ImportantHiringOpenSource 22796\n",
      "ImportantHiringPMExp 22775\n",
      "ImportantHiringCompanies 22839\n",
      "ImportantHiringTitles 22839\n",
      "ImportantHiringEducation 22729\n",
      "ImportantHiringRep 22774\n",
      "ImportantHiringGettingThingsDone 22847\n",
      "Currency 29984\n",
      "Overpaid 38005\n",
      "TabsSpaces 12541\n",
      "EducationImportant 28037\n",
      "EducationTypes 21038\n",
      "SelfTaughtTypes 24657\n",
      "TimeAfterBootcamp 48790\n",
      "CousinEducation 27824\n",
      "WorkStart 14696\n",
      "HaveWorkedLanguage 14767\n",
      "WantWorkLanguage 17621\n",
      "HaveWorkedFramework 31163\n",
      "WantWorkFramework 28061\n",
      "HaveWorkedDatabase 21940\n",
      "WantWorkDatabase 26283\n",
      "HaveWorkedPlatform 22278\n",
      "WantWorkPlatform 23508\n",
      "IDE 15562\n",
      "AuditoryEnvironment 14935\n",
      "Methodology 25621\n",
      "VersionControl 20662\n",
      "CheckInCode 21831\n",
      "ShipIt 21751\n",
      "OtherPeoplesCode 21773\n",
      "ProjectManagement 21993\n",
      "EnjoyDebugging 21627\n",
      "InTheZone 22042\n",
      "DifficultCommunication 21752\n",
      "CollaborateRemote 21935\n",
      "MetricAssess 25920\n",
      "EquipmentSatisfiedMonitors 21667\n",
      "EquipmentSatisfiedCPU 21665\n",
      "EquipmentSatisfiedRAM 21656\n",
      "EquipmentSatisfiedStorage 21721\n",
      "EquipmentSatisfiedRW 21703\n",
      "InfluenceInternet 21701\n",
      "InfluenceWorkstation 29734\n",
      "InfluenceHardware 29733\n",
      "InfluenceServers 29808\n",
      "InfluenceTechStack 29791\n",
      "InfluenceDeptTech 29799\n",
      "InfluenceVizTools 29779\n",
      "InfluenceDatabase 29776\n",
      "InfluenceCloud 29797\n",
      "InfluenceConsultants 29847\n",
      "InfluenceRecruitment 29806\n",
      "InfluenceCommunication 29814\n",
      "StackOverflowDescribes 14460\n",
      "StackOverflowSatisfaction 14800\n",
      "StackOverflowDevices 16189\n",
      "StackOverflowFoundAnswer 17102\n",
      "StackOverflowCopiedCode 17483\n",
      "StackOverflowJobListing 17924\n",
      "StackOverflowCompanyPage 17957\n",
      "StackOverflowJobSearch 17977\n",
      "StackOverflowNewQuestion 17774\n",
      "StackOverflowAnswer 17836\n",
      "StackOverflowMetaChat 17985\n",
      "StackOverflowAdsRelevant 20575\n",
      "StackOverflowAdsDistracting 19655\n",
      "StackOverflowModeration 21263\n",
      "StackOverflowCommunity 18982\n",
      "StackOverflowHelpful 17446\n",
      "StackOverflowBetter 17742\n",
      "StackOverflowWhatDo 18023\n",
      "StackOverflowMakeMoney 20330\n",
      "Gender 16345\n",
      "HighestEducationParents 16454\n",
      "Race 18359\n",
      "SurveyLong 16672\n",
      "QuestionsInteresting 16856\n",
      "QuestionsConfusing 16973\n",
      "InterestedAnswers 16780\n",
      "Salary 38501\n",
      "ExpectedSalary 48826\n"
     ]
    }
   ],
   "source": [
    "# Print the # of NaN values by column in the survey results.\n",
    "\n",
    "for col in survey_results:\n",
    "    col_nan = survey_results[col].isnull().sum()\n",
    "    print(col, col_nan)"
   ]
  },
  {
   "cell_type": "markdown",
   "metadata": {},
   "source": [
    "This shows us that the FormalEducation feature has 0 NaN values (it must have been required) which means that we do not need to remove any rows for answering the second question.\n",
    "\n",
    "This also shows us that RightWrongWay feature has a significant # of NaN values (20408 out of 51392 total responses) so our answer for the third question may be heavily biased by those who chose to respond."
   ]
  },
  {
   "cell_type": "code",
   "execution_count": 15,
   "metadata": {},
   "outputs": [],
   "source": [
    "# Prepare the X and y sets for the second question. Much of this was copied from the\n",
    "# \"Putting it All Together - Solution\" in this lesson on Udacity (thanks!).\n",
    "\n",
    "X2 = survey_results\n",
    "y2 = X2['FormalEducation'].astype('category').cat.codes\n",
    "\n",
    "# Drop the Respondent and FormalEducation columns from X2\n",
    "X2 = X2.drop(['Respondent', 'FormalEducation'], axis=1)\n",
    "\n",
    "# Fill numeric columns with the mean\n",
    "num_vars = X2.select_dtypes(include=['float', 'int']).columns\n",
    "for col in num_vars:\n",
    "    X2[col].fillna((X2[col].mean()), inplace=True)\n",
    "        \n",
    "# Dummy the categorical variables\n",
    "cat_vars = X2.select_dtypes(include=['object']).copy().columns\n",
    "for var in cat_vars:\n",
    "    # for each cat add dummy var, drop original column\n",
    "    X2 = pd.concat([X2.drop(var, axis=1), pd.get_dummies(X2[var], prefix=var, prefix_sep='_', drop_first=True)], axis=1)"
   ]
  },
  {
   "cell_type": "code",
   "execution_count": 16,
   "metadata": {},
   "outputs": [],
   "source": [
    "# Prepare the X and y sets for the third question. Much of this was copied from the\n",
    "# \"Putting it All Together - Solution\" in this lesson on Udacity (thanks!).\n",
    "\n",
    "# Drop rows with missing RightWrongWay values\n",
    "X3 = survey_results.dropna(subset=['RightWrongWay'], axis=0)\n",
    "y3 = X3['RightWrongWay'].astype('category').cat.codes\n",
    "\n",
    "# Drop the Respondent and RightWrongWay columns from X3\n",
    "X3 = X3.drop(['Respondent', 'RightWrongWay'], axis=1)\n",
    "\n",
    "# Fill numeric columns with the mean\n",
    "num_vars = X3.select_dtypes(include=['float', 'int']).columns\n",
    "for col in num_vars:\n",
    "    X3[col].fillna((X3[col].mean()), inplace=True)\n",
    "        \n",
    "# Dummy the categorical variables\n",
    "cat_vars = X3.select_dtypes(include=['object']).copy().columns\n",
    "for var in cat_vars:\n",
    "    # for each cat add dummy var, drop original column\n",
    "    X3 = pd.concat([X3.drop(var, axis=1), pd.get_dummies(X3[var], prefix=var, prefix_sep='_', drop_first=True)], axis=1)"
   ]
  },
  {
   "cell_type": "markdown",
   "metadata": {},
   "source": [
    "## Step 4: Modeling\n",
    "\n",
    "Now that our data has been prepared we can go ahead and model it based upon the questions that we are asking (and features we are trying to predict)."
   ]
  },
  {
   "cell_type": "markdown",
   "metadata": {},
   "source": [
    "### Common Function for Modeling\n",
    "\n",
    "Our first step should be to create a common function that can be used for both questions to model the data."
   ]
  },
  {
   "cell_type": "code",
   "execution_count": 17,
   "metadata": {},
   "outputs": [],
   "source": [
    "# Much of this is taken from the find_optimal_lm_mod function in the AllTogether.py file\n",
    "# on Udacity (thanks!).\n",
    "\n",
    "def model_our_data(X, y, cutoff = 10, test_size = .30, random_state = 42):\n",
    "    #reduce the columns with many null values\n",
    "    X = X.iloc[:, np.where((X.sum() > int(cutoff)) == True)[0]]\n",
    "    \n",
    "    #split the data into train and test\n",
    "    X_train, X_test, y_train, y_test = train_test_split(X, y, test_size = test_size, random_state = random_state)\n",
    "    \n",
    "    #fit the model\n",
    "    lm_model = LogisticRegression(random_state = random_state)\n",
    "    lm_model.fit(X_train, y_train)\n",
    "    \n",
    "    #predict using the model\n",
    "    y_test_preds = lm_model.predict(X_test)\n",
    "    y_train_preds = lm_model.predict(X_train)\n",
    "    \n",
    "    #evaluate the model\n",
    "    accuracy_score_test = accuracy_score(y_test, y_test_preds)\n",
    "    accuracy_score_train = accuracy_score(y_train, y_train_preds)\n",
    "    r2_score_test = r2_score(y_test, y_test_preds)\n",
    "    r2_score_train = r2_score(y_train, y_train_preds)\n",
    "    \n",
    "    return r2_score_test, r2_score_train, accuracy_score_test, accuracy_score_train, lm_model, X_train, X_test, y_train, y_test"
   ]
  },
  {
   "cell_type": "markdown",
   "metadata": {},
   "source": [
    "### Modeling for Question 2\n",
    "\n",
    "Now we are ready to model for the second question.\n",
    "\n",
    "As a reminder, my second question is:\n",
    "\n",
    "2. How well can we predict an individual's highest level of formal education? What aspects correlate well to this?"
   ]
  },
  {
   "cell_type": "code",
   "execution_count": 18,
   "metadata": {
    "scrolled": true
   },
   "outputs": [
    {
     "name": "stdout",
     "output_type": "stream",
     "text": [
      "accuracy_score_test2:  0.4213257231806979\n",
      "accuracy_score_train2:  0.4201089675877022\n",
      "r2_score_test2:  -1.028283933979266\n",
      "r2_score_train2:  -1.0404334160191517\n"
     ]
    }
   ],
   "source": [
    "r2_score_test2, r2_score_train2, accuracy_score_test2, accuracy_score_train2, lm_model2, X_train2, X_test2, y_train2, y_test2 = model_our_data(X2, y2)\n",
    "\n",
    "print('accuracy_score_test2: ', accuracy_score_test2)\n",
    "print('accuracy_score_train2: ', accuracy_score_train2)\n",
    "print('r2_score_test2: ', r2_score_test2)\n",
    "print('r2_score_train2: ', r2_score_train2)"
   ]
  },
  {
   "cell_type": "markdown",
   "metadata": {},
   "source": [
    "Well, this clearly shows that my model does not do a very good job of predicting the highest education level of the developer.\n",
    "\n",
    "I tweaked my model a bit but still got poor results. Why? I will discuss my thoughts on it in my blog post ;)"
   ]
  },
  {
   "cell_type": "markdown",
   "metadata": {},
   "source": [
    "### Modeling for Question 3\n",
    "\n",
    "Now we can model for the third question.\n",
    "\n",
    "As a reminder, my third question is:\n",
    "\n",
    "3. How well can we predict whether an individual sees the world in \"black and white\" or not? What aspects correlate well to this?"
   ]
  },
  {
   "cell_type": "code",
   "execution_count": 19,
   "metadata": {},
   "outputs": [
    {
     "name": "stdout",
     "output_type": "stream",
     "text": [
      "accuracy_score_test3:  0.3145438898450947\n",
      "accuracy_score_train3:  0.32225193655477685\n",
      "r2_score_test3:  -0.1667337524875463\n",
      "r2_score_train3:  -0.16409152378519787\n"
     ]
    }
   ],
   "source": [
    "r2_score_test3, r2_score_train3, accuracy_score_test3, accuracy_score_train3, lm_model3, X_train3, X_test3, y_train3, y_test3 = model_our_data(X3, y3)\n",
    "\n",
    "print('accuracy_score_test3: ', accuracy_score_test3)\n",
    "print('accuracy_score_train3: ', accuracy_score_train3)\n",
    "print('r2_score_test3: ', r2_score_test3)\n",
    "print('r2_score_train3: ', r2_score_train3)"
   ]
  },
  {
   "cell_type": "markdown",
   "metadata": {},
   "source": [
    "Well, this clearly shows that my model does not do a very good job of predicting the whether a developer sees the world in black-and-white or not.\n",
    "\n",
    "I tweaked my model a bit but still got poor results. Why? I will discuss my thoughts on it in my blog post ;)"
   ]
  },
  {
   "cell_type": "markdown",
   "metadata": {},
   "source": [
    "## Step 5: Evaluation\n",
    "\n",
    "Now that we have completed our modeling and have predictions based upon our models we can evaluate the models and the most important features in each."
   ]
  },
  {
   "cell_type": "markdown",
   "metadata": {},
   "source": [
    "Though my models did not do well for answering the second and third questions it is still worthwhile to look at the coefficients (features) that had the most impact on them."
   ]
  },
  {
   "cell_type": "code",
   "execution_count": 20,
   "metadata": {},
   "outputs": [],
   "source": [
    "# Create a dataframe showing which coefficients (features) had the highest weights in the model. Much of this\n",
    "# came from the \"Putting it All Together - Solution\" in this lesson on Udacity (thanks!).\n",
    "def coef_weights(lm_model_c, X_train_c):\n",
    "    '''\n",
    "    INPUT:\n",
    "    lm_model_c - the logistic regression model \n",
    "    X_train_c - the training data, so the column names can be used\n",
    "    OUTPUT:\n",
    "    coefs_df - a dataframe holding the coefficient and estimate\n",
    "    \n",
    "    Provides a dataframe that can be used to understand the most influential coefficients\n",
    "    in a linear model by providing the coefficient estimates along with the name of the \n",
    "    variable attached to the coefficient.\n",
    "    '''\n",
    "    coefs_df = pd.DataFrame(lm_model_c.coef_[0],\n",
    "                            X_train_c.columns, \n",
    "                            columns=['coef'])\\\n",
    "                            .sort_values(by='coef', ascending=False)\n",
    "    return coefs_df"
   ]
  },
  {
   "cell_type": "code",
   "execution_count": 21,
   "metadata": {},
   "outputs": [
    {
     "data": {
      "text/html": [
       "<div>\n",
       "<style scoped>\n",
       "    .dataframe tbody tr th:only-of-type {\n",
       "        vertical-align: middle;\n",
       "    }\n",
       "\n",
       "    .dataframe tbody tr th {\n",
       "        vertical-align: top;\n",
       "    }\n",
       "\n",
       "    .dataframe thead th {\n",
       "        text-align: right;\n",
       "    }\n",
       "</style>\n",
       "<table border=\"1\" class=\"dataframe\">\n",
       "  <thead>\n",
       "    <tr style=\"text-align: right;\">\n",
       "      <th></th>\n",
       "      <th>coef</th>\n",
       "    </tr>\n",
       "  </thead>\n",
       "  <tbody>\n",
       "    <tr>\n",
       "      <th>ExpectedSalary</th>\n",
       "      <td>4.578003e-05</td>\n",
       "    </tr>\n",
       "    <tr>\n",
       "      <th>Salary</th>\n",
       "      <td>1.036630e-05</td>\n",
       "    </tr>\n",
       "    <tr>\n",
       "      <th>HoursPerWeek</th>\n",
       "      <td>1.752873e-07</td>\n",
       "    </tr>\n",
       "    <tr>\n",
       "      <th>StackOverflowSatisfaction</th>\n",
       "      <td>1.746499e-07</td>\n",
       "    </tr>\n",
       "    <tr>\n",
       "      <th>CareerSatisfaction</th>\n",
       "      <td>1.107485e-07</td>\n",
       "    </tr>\n",
       "    <tr>\n",
       "      <th>MajorUndergrad_Computer science or software engineering</th>\n",
       "      <td>1.004259e-07</td>\n",
       "    </tr>\n",
       "    <tr>\n",
       "      <th>Professional_Professional developer</th>\n",
       "      <td>8.423169e-08</td>\n",
       "    </tr>\n",
       "    <tr>\n",
       "      <th>JobSatisfaction</th>\n",
       "      <td>6.094954e-08</td>\n",
       "    </tr>\n",
       "    <tr>\n",
       "      <th>DeveloperType_Web developer</th>\n",
       "      <td>4.424640e-08</td>\n",
       "    </tr>\n",
       "    <tr>\n",
       "      <th>University_No</th>\n",
       "      <td>4.385884e-08</td>\n",
       "    </tr>\n",
       "    <tr>\n",
       "      <th>CompanyType_Privately-held limited company, not in startup mode</th>\n",
       "      <td>4.051919e-08</td>\n",
       "    </tr>\n",
       "    <tr>\n",
       "      <th>Country_India</th>\n",
       "      <td>3.867325e-08</td>\n",
       "    </tr>\n",
       "    <tr>\n",
       "      <th>WebDeveloperType_Full stack Web developer</th>\n",
       "      <td>2.861220e-08</td>\n",
       "    </tr>\n",
       "    <tr>\n",
       "      <th>HomeRemote_Never</th>\n",
       "      <td>2.602251e-08</td>\n",
       "    </tr>\n",
       "    <tr>\n",
       "      <th>PronounceGIF_With a soft \"g,\" like \"jiff\"</th>\n",
       "      <td>2.520106e-08</td>\n",
       "    </tr>\n",
       "    <tr>\n",
       "      <th>EducationImportant_Somewhat important</th>\n",
       "      <td>2.309555e-08</td>\n",
       "    </tr>\n",
       "    <tr>\n",
       "      <th>CheckInCode_Multiple times a day</th>\n",
       "      <td>2.253052e-08</td>\n",
       "    </tr>\n",
       "    <tr>\n",
       "      <th>Country_United States</th>\n",
       "      <td>2.237940e-08</td>\n",
       "    </tr>\n",
       "    <tr>\n",
       "      <th>InfluenceConsultants_No influence at all</th>\n",
       "      <td>2.231486e-08</td>\n",
       "    </tr>\n",
       "    <tr>\n",
       "      <th>InfluenceServers_No influence at all</th>\n",
       "      <td>2.174173e-08</td>\n",
       "    </tr>\n",
       "  </tbody>\n",
       "</table>\n",
       "</div>"
      ],
      "text/plain": [
       "                                                            coef\n",
       "ExpectedSalary                                      4.578003e-05\n",
       "Salary                                              1.036630e-05\n",
       "HoursPerWeek                                        1.752873e-07\n",
       "StackOverflowSatisfaction                           1.746499e-07\n",
       "CareerSatisfaction                                  1.107485e-07\n",
       "MajorUndergrad_Computer science or software eng...  1.004259e-07\n",
       "Professional_Professional developer                 8.423169e-08\n",
       "JobSatisfaction                                     6.094954e-08\n",
       "DeveloperType_Web developer                         4.424640e-08\n",
       "University_No                                       4.385884e-08\n",
       "CompanyType_Privately-held limited company, not...  4.051919e-08\n",
       "Country_India                                       3.867325e-08\n",
       "WebDeveloperType_Full stack Web developer           2.861220e-08\n",
       "HomeRemote_Never                                    2.602251e-08\n",
       "PronounceGIF_With a soft \"g,\" like \"jiff\"           2.520106e-08\n",
       "EducationImportant_Somewhat important               2.309555e-08\n",
       "CheckInCode_Multiple times a day                    2.253052e-08\n",
       "Country_United States                               2.237940e-08\n",
       "InfluenceConsultants_No influence at all            2.231486e-08\n",
       "InfluenceServers_No influence at all                2.174173e-08"
      ]
     },
     "execution_count": 21,
     "metadata": {},
     "output_type": "execute_result"
    }
   ],
   "source": [
    "#Use the function\n",
    "coef_X2 = coef_weights(lm_model2, X_train2)\n",
    "\n",
    "#A quick look at the top results\n",
    "coef_X2.head(20)"
   ]
  },
  {
   "cell_type": "markdown",
   "metadata": {},
   "source": [
    "From the \"coef\" column we can see that no columns had a very strong impact on this model. What can we determine from these results if anything? I will discuss my thoughts on it in my blog post ;)"
   ]
  },
  {
   "cell_type": "code",
   "execution_count": 22,
   "metadata": {},
   "outputs": [
    {
     "data": {
      "text/html": [
       "<div>\n",
       "<style scoped>\n",
       "    .dataframe tbody tr th:only-of-type {\n",
       "        vertical-align: middle;\n",
       "    }\n",
       "\n",
       "    .dataframe tbody tr th {\n",
       "        vertical-align: top;\n",
       "    }\n",
       "\n",
       "    .dataframe thead th {\n",
       "        text-align: right;\n",
       "    }\n",
       "</style>\n",
       "<table border=\"1\" class=\"dataframe\">\n",
       "  <thead>\n",
       "    <tr style=\"text-align: right;\">\n",
       "      <th></th>\n",
       "      <th>coef</th>\n",
       "    </tr>\n",
       "  </thead>\n",
       "  <tbody>\n",
       "    <tr>\n",
       "      <th>ExpectedSalary</th>\n",
       "      <td>1.029593e-05</td>\n",
       "    </tr>\n",
       "    <tr>\n",
       "      <th>HoursPerWeek</th>\n",
       "      <td>1.394064e-08</td>\n",
       "    </tr>\n",
       "    <tr>\n",
       "      <th>StackOverflowSatisfaction</th>\n",
       "      <td>1.080692e-08</td>\n",
       "    </tr>\n",
       "    <tr>\n",
       "      <th>CareerSatisfaction</th>\n",
       "      <td>4.192045e-09</td>\n",
       "    </tr>\n",
       "    <tr>\n",
       "      <th>Country_India</th>\n",
       "      <td>3.754933e-09</td>\n",
       "    </tr>\n",
       "    <tr>\n",
       "      <th>Race_South Asian</th>\n",
       "      <td>2.329580e-09</td>\n",
       "    </tr>\n",
       "    <tr>\n",
       "      <th>PronounceGIF_With a soft \"g,\" like \"jiff\"</th>\n",
       "      <td>2.073146e-09</td>\n",
       "    </tr>\n",
       "    <tr>\n",
       "      <th>Currency_Indian rupees (?)</th>\n",
       "      <td>2.060487e-09</td>\n",
       "    </tr>\n",
       "    <tr>\n",
       "      <th>CompanyType_Privately-held limited company, not in startup mode</th>\n",
       "      <td>1.756120e-09</td>\n",
       "    </tr>\n",
       "    <tr>\n",
       "      <th>TabsSpaces_Tabs</th>\n",
       "      <td>1.659905e-09</td>\n",
       "    </tr>\n",
       "    <tr>\n",
       "      <th>MajorUndergrad_Computer science or software engineering</th>\n",
       "      <td>1.578781e-09</td>\n",
       "    </tr>\n",
       "    <tr>\n",
       "      <th>EquipmentSatisfiedStorage_Satisfied</th>\n",
       "      <td>1.568071e-09</td>\n",
       "    </tr>\n",
       "    <tr>\n",
       "      <th>University_Yes, full-time</th>\n",
       "      <td>1.489236e-09</td>\n",
       "    </tr>\n",
       "    <tr>\n",
       "      <th>EquipmentSatisfiedMonitors_Satisfied</th>\n",
       "      <td>1.466077e-09</td>\n",
       "    </tr>\n",
       "    <tr>\n",
       "      <th>EquipmentSatisfiedRW_Satisfied</th>\n",
       "      <td>1.375955e-09</td>\n",
       "    </tr>\n",
       "    <tr>\n",
       "      <th>JobSeekingStatus_I'm not actively looking, but I am open to new opportunities</th>\n",
       "      <td>1.370678e-09</td>\n",
       "    </tr>\n",
       "    <tr>\n",
       "      <th>ShipIt_Disagree</th>\n",
       "      <td>1.297118e-09</td>\n",
       "    </tr>\n",
       "    <tr>\n",
       "      <th>DiversityImportant_Somewhat agree</th>\n",
       "      <td>1.186799e-09</td>\n",
       "    </tr>\n",
       "    <tr>\n",
       "      <th>StackOverflowModeration_Somewhat agree</th>\n",
       "      <td>1.179761e-09</td>\n",
       "    </tr>\n",
       "    <tr>\n",
       "      <th>StackOverflowDevices_Desktop</th>\n",
       "      <td>1.137212e-09</td>\n",
       "    </tr>\n",
       "  </tbody>\n",
       "</table>\n",
       "</div>"
      ],
      "text/plain": [
       "                                                            coef\n",
       "ExpectedSalary                                      1.029593e-05\n",
       "HoursPerWeek                                        1.394064e-08\n",
       "StackOverflowSatisfaction                           1.080692e-08\n",
       "CareerSatisfaction                                  4.192045e-09\n",
       "Country_India                                       3.754933e-09\n",
       "Race_South Asian                                    2.329580e-09\n",
       "PronounceGIF_With a soft \"g,\" like \"jiff\"           2.073146e-09\n",
       "Currency_Indian rupees (?)                          2.060487e-09\n",
       "CompanyType_Privately-held limited company, not...  1.756120e-09\n",
       "TabsSpaces_Tabs                                     1.659905e-09\n",
       "MajorUndergrad_Computer science or software eng...  1.578781e-09\n",
       "EquipmentSatisfiedStorage_Satisfied                 1.568071e-09\n",
       "University_Yes, full-time                           1.489236e-09\n",
       "EquipmentSatisfiedMonitors_Satisfied                1.466077e-09\n",
       "EquipmentSatisfiedRW_Satisfied                      1.375955e-09\n",
       "JobSeekingStatus_I'm not actively looking, but ...  1.370678e-09\n",
       "ShipIt_Disagree                                     1.297118e-09\n",
       "DiversityImportant_Somewhat agree                   1.186799e-09\n",
       "StackOverflowModeration_Somewhat agree              1.179761e-09\n",
       "StackOverflowDevices_Desktop                        1.137212e-09"
      ]
     },
     "execution_count": 22,
     "metadata": {},
     "output_type": "execute_result"
    }
   ],
   "source": [
    "#Use the function\n",
    "coef_X3 = coef_weights(lm_model3, X_train3)\n",
    "\n",
    "#A quick look at the top results\n",
    "coef_X3.head(20)"
   ]
  },
  {
   "cell_type": "markdown",
   "metadata": {},
   "source": [
    "From the \"coef\" column we can see that no columns had a very strong impact on this model. What can we determine from these results if anything? I will discuss my thoughts on it in my blog post ;)"
   ]
  },
  {
   "cell_type": "code",
   "execution_count": null,
   "metadata": {},
   "outputs": [],
   "source": []
  }
 ],
 "metadata": {
  "kernelspec": {
   "display_name": "Python 3",
   "language": "python",
   "name": "python3"
  },
  "language_info": {
   "codemirror_mode": {
    "name": "ipython",
    "version": 3
   },
   "file_extension": ".py",
   "mimetype": "text/x-python",
   "name": "python",
   "nbconvert_exporter": "python",
   "pygments_lexer": "ipython3",
   "version": "3.8.5"
  }
 },
 "nbformat": 4,
 "nbformat_minor": 4
}
